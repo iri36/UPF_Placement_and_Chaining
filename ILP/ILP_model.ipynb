{
 "cells": [
  {
   "cell_type": "markdown",
   "metadata": {},
   "source": [
    "# UPF Placement as SFCR"
   ]
  },
  {
   "cell_type": "code",
   "execution_count": 1,
   "metadata": {},
   "outputs": [],
   "source": [
    "import pickle\n",
    "import time\n",
    "from pyomo.environ import *\n",
    "from pyomo.opt import SolverFactory, SolverStatus, TerminationCondition\n",
    "from pyomo.core import Var"
   ]
  },
  {
   "attachments": {},
   "cell_type": "markdown",
   "metadata": {},
   "source": [
    "## Defining Aux. Functions"
   ]
  },
  {
   "cell_type": "code",
   "execution_count": 2,
   "metadata": {},
   "outputs": [],
   "source": [
    "def import_data(dir_data, file_name):\n",
    "    \"\"\"THis function imports data that it is in dir_data+file_name\"\"\"\n",
    "    with open (dir_data+file_name, \"rb\") as fp:\n",
    "        return pickle.load(fp)"
   ]
  },
  {
   "cell_type": "code",
   "execution_count": 3,
   "metadata": {},
   "outputs": [],
   "source": [
    "def export_data(file_name, file_data):\n",
    "    \"\"\"This function allows saving the information contained in file_data in a file named file_data\"\"\"\n",
    "    with open(file_name, \"wb\") as fp:\n",
    "        pickle.dump(file_data, fp)\n",
    "    return"
   ]
  },
  {
   "attachments": {},
   "cell_type": "markdown",
   "metadata": {},
   "source": [
    "## Importing Data"
   ]
  },
  {
   "cell_type": "code",
   "execution_count": 6,
   "metadata": {},
   "outputs": [],
   "source": [
    "dir_data = 'path_to_dataset'  \n",
    "\n",
    "# Number of PDU sessions or SFCR)\n",
    "S = import_data(dir_data, \"S\") \n",
    "\n",
    "# Session information\n",
    "N_sfc_type = import_data(dir_data, \"N_sfc_type_S\"+str(S))           # Type of SFC\n",
    "Dict_Tsfc_s = import_data(dir_data, \"Dict_Tsfc_s_S\"+str(S))         # Matrix with VNFs in SFC: 1 if VNF f ∈ Fs in SFCR s ∈ S is of type t ∈ T\n",
    "Dict_C_s = import_data(dir_data, \"Dict_C_s_S\"+str(S))               # Computing resources required by SFCR s ∈ S\n",
    "Dict_Lreq_s = import_data(dir_data, \"Dict_Lreq_s_S\"+str(S))         # E2E latency requirement of SFCR s ∈ S\n",
    "Dict_beta_s = import_data(dir_data, \"Dict_beta_s_S\"+str(S))         # Bandwidth capacity required by SFCR s ∈ S\n",
    "Source_BS = import_data(dir_data, \"Source_BS_S\"+str(S))             # Access node (rs ∈ Nr) of SFCR s ∈ S\n",
    "\n",
    "\n",
    "# Nodes\n",
    "# Candidate locations\n",
    "Nc = import_data(dir_data, \"ListMECInstalled\")           # candidate coordenadas\n",
    "Nc = sorted(Nc, key=lambda k: [k[1], k[0]])             \n",
    "Dict_C_c = import_data(dir_data, \"Dict_C_c\")             # Processing capacity at candidate location c ∈ Nc\n",
    "\n",
    "# access nodes\n",
    "Nr = import_data(dir_data, \"BS_pos\")\n",
    "Nr = sorted(Nr, key=lambda k: [k[1], k[0]])\n",
    "\n",
    "# Set of all nodes\n",
    "N = Nc + Nr  \n",
    "\n",
    "\n",
    "#Importing paths data \n",
    "Edges = import_data(dir_data,\"Edges\")                               # dict with key nodes_id (en & ran) and value latency\n",
    "Dict_Links_Capacity = import_data(dir_data,\"Dict_Links_Capacity\")   # dict with key nodes_id (en & ran) and value bandwidth\n",
    "Paths = import_data(dir_data,\"Paths\")\n",
    "Paths_nm = import_data(dir_data,\"Paths_nm\")                         # P_n,m: dict with key nodes_id (en & ran) and value list of paths between nodes n and m\n",
    "Paths_links_mapping = import_data(dir_data,'Paths_links_mapping')   # H^p_uv: 1 if path p ∈ P is mapped to physical link (u,v) ∈ E\n",
    "\n",
    "\n",
    "# VNFs Data\n",
    "Dict_C_t = import_data(dir_data,'Dict_C_t')             # Processing capacity of VNF of type t ∈ T         \n",
    "Dict_D_proc = import_data(dir_data,'Dict_D_proc')       # d_t: Processing delay of VNF of type t ∈ T\n",
    "M_t_imported = import_data(dir_data,'M_t')              # M_t: Maximum number of instances of type t ∈ T. Compute upon service demands and VNF capacity\n",
    "T = import_data(dir_data,'T')                           # T: Types of VNFs\n",
    "T_extended = T+1                                        # Extending T dataset to include RANs as an special VNF type\n",
    "T_dn = import_data(dir_data,'T_dn')                     # Processing time of data network nodes\n"
   ]
  },
  {
   "attachments": {},
   "cell_type": "markdown",
   "metadata": {},
   "source": [
    "# Preparing the Data"
   ]
  },
  {
   "cell_type": "code",
   "execution_count": 7,
   "metadata": {},
   "outputs": [
    {
     "data": {
      "text/plain": [
       "True"
      ]
     },
     "execution_count": 7,
     "metadata": {},
     "output_type": "execute_result"
    }
   ],
   "source": [
    "# Splitting the set of links between candidate nodes and ran-candidates\n",
    "\n",
    "Edge_candidates = {}\n",
    "Edge_rans_candidates = {}\n",
    "\n",
    "for k,v in Edges.items():\n",
    "    if k[0] <= len(Nc) and k[1] <= len(Nc):\n",
    "        Edge_candidates[k] = v\n",
    "    else:\n",
    "        Edge_rans_candidates[k] = v\n",
    "\n",
    "if len(Edge_candidates) + len(Edge_rans_candidates) != len(Edges):\n",
    "    print('Error: There was something wrong in the splitting process')\n",
    "    raise"
   ]
  },
  {
   "cell_type": "markdown",
   "metadata": {},
   "source": [
    "## Defining the general parameters for each type SFC"
   ]
  },
  {
   "attachments": {},
   "cell_type": "markdown",
   "metadata": {},
   "source": [
    "####  Types of PDU Sessions/ SFCR\n",
    "\n",
    "+ Type 1:     \n",
    "------| PSA |------\n",
    "      \n",
    "      \n",
    "+ Type 2:     \n",
    "------|I-UPF|-------| PSA |------\n",
    "      \n",
    "      \n",
    "+ Type 3:     \n",
    "------| M-UPF |-----|PSA |-----\n",
    "               \\̣____|PSA |-----\n",
    "               \n",
    "NOTE: All this types of VNFs has as initial VNF the RAN. In other words, the source nodes are considered as a type of VNFs. In the SFCR model the RANs are the last VNF and have t =4\n",
    "\n",
    "### SFCR Parameters:\n",
    "+ N_sfc_type: Number of CSFR types (i.e., 3)\n",
    "+ B_sfc_type: Number of branches for each SFCR type\n",
    "+ F_sfc_type: Number of VNFs for each SFCR type\n",
    "+ K_sfc_type: Binary Parameter indicating if a VNF is common to all the branches (1) or not (0)\n",
    "+ T_sfc_type: Parameter indicating the type of VNF f in for each SFCR type\n",
    "+ P_fbs_sfc_type: Parameter indicating if VNF f is present in branch b for each SFCR type\n",
    "+ O_sbfg_sfc_type: Parameter indicating if VNF f goes before g in branch b for each SFCR type\n",
    "\n",
    "### SFCR Requirements:\n",
    "+ L_s: Latency requirement of service s\n",
    "+ C_s: Capacity demand of servise s\n",
    "+ Source_s: Source access node/AP of service s (List_ran_user (s,f,t,m,c) )\n",
    "+ Bw_s: Bandwidth demand of service s"
   ]
  },
  {
   "cell_type": "code",
   "execution_count": 10,
   "metadata": {},
   "outputs": [],
   "source": [
    "#  Parameters for each type of SFCR\n",
    "\n",
    "if N_sfc_type==3:                              # T: Number of VNFs types 1:PSA,  2:IUPF,3: M-IUPF, 4:RAN\n",
    "    Ran_type = 4\n",
    "    B_sfc_type = [1,1,2]                       # No. of branches in each type of SFC\n",
    "    F_sfc_type = [[1,2],[1,2,3],[1, 2, 3, 4]]  # VNFs in each type of SFC\n",
    "    T_sfc_type = [[1,4],[2,1,4],[3,1,1,4]]     # Type for each VNF in SFC \n",
    "    K_sfc_type = [[1,1],[1,1,1],[1,0,0,1]]     # Indicates if a VNF instance is common to all the branches or not\n",
    "    P_fbs_sfc_type = [[[1,1]], \n",
    "                      [[1,1,1]], \n",
    "                      [[1,1,0,1],[1,0,1,1]]]   # Indicates if a VNF is present or not in a branch: Index[type,branch,vnf]\n",
    "    O_sbfg_sfc_type  = [[[[0,0], [1,0]]],\n",
    "                        [[[0,1,0],[0,0,0],[1,0,0]]],\n",
    "                        [[[0,1,0,0],[0,0,0,0],[0,0,0,0],[1,0,0,0]],\n",
    "                        [[0,0,1,0],[0,0,0,0],[0,0,0,0],[1,0,0,0]]]]  #Indicates if a VNF f goes before g in a branch\n",
    "\n",
    "if N_sfc_type==2:                               # T: Number of VNFs types 1:PSA,  2:IUPF, 3:RAN\n",
    "    Ran_type = 3\n",
    "    B_sfc_type = [1,1]                          # No. of branches in each type of SFC\n",
    "    F_sfc_type = [[1,2],[1,2,3]]                # VNFs in each type of SFC\n",
    "    T_sfc_type = [[1,3],[2,1,3]]                # Type for each VNF in SFC \n",
    "    K_sfc_type = [[1,1],[1,1,1]]                # Indicates if a VNF instance is common to all the branches or not\n",
    "    P_fbs_sfc_type = [[[1,1]], \n",
    "                      [[1,1,1]]]                # Indicates if a VNF is present or not in a branch: Index[type,branch,vnf]\n",
    "    O_sbfg_sfc_type  = [[[[0,0], [1,0]]],\n",
    "                        [[[0,1,0],[0,0,0],[1,0,0]]]]  #Indicates if a VNF f goes before g in a branch"
   ]
  },
  {
   "attachments": {},
   "cell_type": "markdown",
   "metadata": {},
   "source": [
    "#### Defining PDU sessions  parameters"
   ]
  },
  {
   "cell_type": "code",
   "execution_count": 11,
   "metadata": {},
   "outputs": [],
   "source": [
    "#Generating the data of each session PDU (demand, A-UPF number, BS source)\n",
    "List_F_s = []\n",
    "List_T_s = []\n",
    "List_K_s = []\n",
    "List_P_s = []\n",
    "List_O_s = []\n",
    "List_B_s = []\n",
    "List_R_s = []  # It has for each session the tuple (s,f,t,m,c)\n",
    "\n",
    "for k,v in Dict_Tsfc_s.items():\n",
    "    List_F_s.append(F_sfc_type[v-1])\n",
    "    List_T_s.append(T_sfc_type[v-1])\n",
    "    List_K_s.append(K_sfc_type[v-1])\n",
    "    List_P_s.append(P_fbs_sfc_type[v-1])\n",
    "    List_O_s.append(O_sbfg_sfc_type[v-1])\n",
    "    List_B_s.append(B_sfc_type[v-1])\n",
    "    List_R_s.append((k, len(F_sfc_type[v-1]), Ran_type, Nr.index(Source_BS[k])+1, Nr.index(Source_BS[k])+1+len(Nc)))"
   ]
  },
  {
   "attachments": {},
   "cell_type": "markdown",
   "metadata": {},
   "source": [
    "# Pyomo model "
   ]
  },
  {
   "cell_type": "code",
   "execution_count": 13,
   "metadata": {},
   "outputs": [],
   "source": [
    "# Creating the model \n",
    "model = ConcreteModel()"
   ]
  },
  {
   "cell_type": "markdown",
   "metadata": {},
   "source": [
    "## Defining the Sets"
   ]
  },
  {
   "cell_type": "code",
   "execution_count": 14,
   "metadata": {},
   "outputs": [],
   "source": [
    "#set of PDU sessions\n",
    "model.del_component( 'S')\n",
    "model.S = RangeSet(1, S)\n",
    "\n",
    "#Set of candidates nodes\n",
    "model.del_component( 'Nc')     \n",
    "model.Nc = RangeSet(1, len(Nc))\n",
    "\n",
    "#Set of ran nodes\n",
    "model.del_component( 'Nr')     \n",
    "model.Nr = RangeSet(len(Nc)+1, len(Nc)+len(Nr))\n",
    "\n",
    "#Set of all the nodes: aggregation points+candidates nodes\n",
    "model.del_component( 'N')     \n",
    "model.N = RangeSet(1, len(N))\n",
    "\n",
    "# Set of network edges. It includes the links between Nc+APs and Nc\n",
    "model.del_component( 'E')\n",
    "model.del_component( 'E_index')\n",
    "model.E = Set(dimen=2, initialize=list(Edges.keys()), ordered= True)\n",
    "# model.E = Set(dimen=2, initialize=list(Links_Latency.keys()), ordered= True)\n",
    "\n",
    "# Set of network edges. It includes the links between Nc and Nc\n",
    "model.del_component( 'E_NcxNc')\n",
    "model.del_component( 'E_NcxNc_index')    \n",
    "model.E_NcxNc = Set(dimen=2, initialize=list(Edge_candidates.keys()), ordered= True)\n",
    "# model.E_NcxNc = Set(dimen=2, initialize=list(Links_Latency_NcxNc.keys()), ordered= True)\n",
    "\n",
    "# Set of network edges. It includes the links between APs and Nc\n",
    "model.del_component( 'E_NrxNc')\n",
    "model.del_component( 'E_NrxNc_index')\n",
    "model.E_NrxNc = Set(dimen=2, initialize=list(Edge_rans_candidates.keys()), ordered= True)\n",
    "# model.E_NrxNc = Set(dimen=2, initialize=list(Links_Latency_NrxNc.keys()), ordered= True)\n",
    "\n",
    "# Set with the combination of all the paths (n,m,h)\n",
    "model.del_component( 'Paths')\n",
    "model.del_component( 'Paths_index')\n",
    "model.del_component( 'Paths_index_index_0')\n",
    "model.Paths = Set(dimen=3, initialize=Paths.keys())\n",
    "\n",
    "# Set with the combination of all endpoints (n,m)\n",
    "Dict_Path_nm = {}\n",
    "for k,v in Paths_nm.items():\n",
    "    Dict_Path_nm[k]= [i+1 for i in range(v)]\n",
    "    \n",
    "model.del_component( 'Paths_nm')\n",
    "model.del_component( 'Paths_nm_index')    \n",
    "model.Paths_nm = Set(dimen=2, initialize=Dict_Path_nm.keys())\n",
    "\n",
    "# Set with the number of paths bertween all endpoints (n,m)\n",
    "model.del_component( 'Paths_nm_h')\n",
    "model.del_component( 'Paths_nm_h_index')    \n",
    "model.Paths_nm_h = Set(model.Paths_nm, initialize=Dict_Path_nm)\n",
    "\n",
    "#Set of VNFs types (UPFs)\n",
    "model.del_component( 'T')\n",
    "model.T = RangeSet(1, T)\n",
    "\n",
    "#Set of extended VNFs types (UPFs+RAN)\n",
    "model.del_component( 'T_extended')\n",
    "model.T_extended = RangeSet(1, T_extended)\n",
    "\n",
    "# Set of available number of VNF instances for each type of VNF\n",
    "Dict_M_t = {}\n",
    "for k,v in M_t.items():\n",
    "    Dict_M_t[k] = [i+1 for i in range(v)]\n",
    "    \n",
    "model.del_component( 'M_t')\n",
    "model.M_t = Set(model.T_extended, initialize= Dict_M_t) \n",
    "\n",
    "# set TM \n",
    "model.del_component( 'TM')\n",
    "model.del_component( 'TM_index')\n",
    "List_TM = [(k,v1) for k,v in  Dict_M_t.items() for v1 in v if k!=4]\n",
    "model.TM = Set(dimen=2, initialize= List_TM)\n",
    "\n",
    "model.del_component( 'TM_extended')\n",
    "model.del_component( 'TM_extended_index')\n",
    "List_TM_extended = [(k,v1) for k,v in  Dict_M_t.items() for v1 in v]\n",
    "model.TM_extended = Set(dimen=2, initialize= List_TM_extended)\n",
    "\n",
    "#Sets of VNFs (basic and extended) forming a SFCR\n",
    "Dict_VNF_s = {}\n",
    "Dict_VNF_s_extended = {}\n",
    "for s in model.S:\n",
    "    Dict_VNF_s[s] = List_F_s[s-1][:-1]\n",
    "    Dict_VNF_s_extended[s] = List_F_s[s-1]\n",
    "\n",
    "model.del_component( 'F')\n",
    "model.F = Set(model.S, initialize= Dict_VNF_s)\n",
    "\n",
    "model.del_component( 'F_extended')\n",
    "# model.F = Set(model.S, initialize= Dict_VNF_s_extended)\n",
    "model.F_extended = Set(model.S, initialize= Dict_VNF_s_extended)\n",
    "\n",
    "# SEt of SFCR and VNFs combined (s,f)\n",
    "model.del_component( 'SF')\n",
    "model.del_component( 'SF_index')\n",
    "SF = [(s, i) for s in model.S for i in List_F_s[s-1][:-1]]  # List of tuples (user_id, vnf_id)\n",
    "model.SF = Set(initialize= SF, ordered=True)\n",
    "\n",
    "# SEt of SFCR and extended VNFs combined (s,f)\n",
    "model.del_component( 'SF_extended')\n",
    "model.del_component( 'SF_extended_index')\n",
    "SF_extended =[(s, i) for s in model.S for i in List_F_s[s-1]]  # List of tuples (user_id, vnf_id)\n",
    "# model.SF = Set(initialize= SF_extended, ordered=True)\n",
    "model.SF_extended = Set(initialize= SF_extended, ordered=True)\n",
    "\n",
    "# FGS is a list with [s,f,g] combination between any two VNFs f and g of each SFCR s\n",
    "model.del_component( 'SFG')\n",
    "model.del_component( 'SFG_index')\n",
    "model.del_component( 'SFG_index_index_0')\n",
    "SFG = [(s,f,g) for s in model.S for f in model.F[s] for g in model.F[s]]\n",
    "model.SFG = Set(dimen=3, initialize= SFG)\n",
    "\n",
    "# FGS_extended is a list with [s,f,g] combination between any two extended VNFs f and g of each SFCR s\n",
    "model.del_component( 'SFG_extended')\n",
    "model.del_component( 'SFG_extended_index')\n",
    "model.del_component( 'SFG_extended_index_index_0')\n",
    "SFG_extended = [(s,f,g) for s in model.S for f in model.F_extended[s] for g in model.F_extended[s]]\n",
    "# model.SFG = Set(dimen=3, initialize= SFG)\n",
    "model.SFG_extended = Set(dimen=3, initialize= SFG_extended)\n",
    "\n",
    "# Set of branches in a SFC s\n",
    "model.del_component( 'B_s')\n",
    "model.del_component( 'B_s_index')\n",
    "Dict_Branches={}\n",
    "for s in model.S:\n",
    "    Dict_Branches[s] = [b+1 for b in range(List_B_s[s-1])]\n",
    "model.B_s = Set(model.S, initialize= Dict_Branches)\n",
    "\n",
    "#Set with the combinations between sfcr and branches (s,b)\n",
    "SB = [(s,b) for s in model.S for b in model.B_s[s] ]\n",
    "model.del_component( 'SB')\n",
    "model.del_component( 'SB_index')\n",
    "model.SB = Set(dimen=2, initialize=SB)\n",
    "\n",
    "# Set with the combinations between SFC s, Branches b and VNFs f (s,b,f)\n",
    "model.del_component( 'SBF')\n",
    "model.del_component( 'SBF_index')\n",
    "model.del_component( 'SBF_index_index_0')\n",
    "SBF = [(s,b,f) for s in model.S for b in model.B_s[s] for f in model.F[s]]\n",
    "model.SBF = Set (dimen=3, initialize=SBF)\n",
    "\n",
    "# Set with the combinations between SFC s, Branches b and extended VNFs f (s,b,f) for extended VNF set (RAN as a VNF)\n",
    "model.del_component( 'SBF_extended')\n",
    "model.del_component( 'SBF_extended_index')\n",
    "model.del_component( 'SBF_extended_index_index_0')\n",
    "SBF_extended = [(s,b,f) for s in model.S for b in model.B_s[s] for f in model.F_extended[s]]\n",
    "# model.SBF = Set (dimen=3, initialize=SBF)\n",
    "model.SBF_extended = Set (dimen=3, initialize=SBF_extended)"
   ]
  },
  {
   "cell_type": "markdown",
   "metadata": {},
   "source": [
    "## Defining the Parameters"
   ]
  },
  {
   "cell_type": "markdown",
   "metadata": {},
   "source": [
    "### Network Parameters"
   ]
  },
  {
   "cell_type": "code",
   "execution_count": 15,
   "metadata": {},
   "outputs": [],
   "source": [
    "# VNF t capacity    \n",
    "model.del_component( 'C_t')\n",
    "model.C_t = Param(model.T_extended, initialize=Dict_C_t)\n",
    "\n",
    "#MaxNumber of VNF instances for each type (M_t)\n",
    "model.del_component( 'MaxM_t')\n",
    "model.MaxM_t = Param(model.T_extended, initialize=M_t)\n",
    "\n",
    "# Server capacity\n",
    "model.del_component( 'C_c') \n",
    "model.C_c = Param(model.Nc, initialize=Dict_C_c)\n",
    "\n",
    "# Node Supported Type of VNF\n",
    "Dict_S_nt = {}  #dict with keys (n,t) and binary values, been 1 if node n support VNF type t, 0 otherwise\n",
    "for n in model.N:\n",
    "    for t in model.T_extended:\n",
    "        if n <= len(Nc) and t!=Ran_type:\n",
    "            Dict_S_nt[(n,t)]=1\n",
    "        elif n>len(Nc) and t==Ran_type:  #ran nodes only support RANs(t=4)\n",
    "            Dict_S_nt[(n,t)]=1\n",
    "        else:\n",
    "            Dict_S_nt[(n,t)]=0\n",
    "            \n",
    "model.del_component( 'NodeSupportType')\n",
    "model.del_component( 'NodeSupportType_index')\n",
    "model.NodeSupportType = Param(model.N, model.T_extended, initialize=Dict_S_nt)\n",
    "\n",
    "# Propagation Latency in a path. Includes all the links between APs and Nc (N)\n",
    "model.del_component( 'D_prop')\n",
    "model.del_component( 'D_prop_index')\n",
    "model.D_prop = Param(model.Paths, initialize=Paths)\n",
    "\n",
    "#Processing Latency for each VNF type\n",
    "model.del_component( 'D_proc')\n",
    "model.D_proc = Param(model.T_extended, initialize=Dict_D_proc)\n",
    "\n",
    "# Link Bandwidth\n",
    "model.del_component( 'Link_bw')\n",
    "model.del_component( 'Link_bw_index')\n",
    "model.Link_bw = Param(model.E, initialize=Dict_Links_Capacity)\n",
    "\n",
    "# Path_link mapping\n",
    "model.del_component( 'W_nmh_uv')\n",
    "model.del_component( 'W_nmh_uv_index')\n",
    "model.del_component( 'W_nmh_uv_index_index_0')\n",
    "model.del_component( 'W_nmh_uv_index_index_0_index_0')\n",
    "model.del_component( 'W_nmh_uv_index_index_0_index_0_index_0')\n",
    "\n",
    "Paths_links_mapping_dict = {}\n",
    "\n",
    "for k,v in Paths_links_mapping.items():\n",
    "    for k1,v1 in v.items():\n",
    "        Paths_links_mapping_dict[(k[0],k[1], k[2], k1[0], k1[1])]=v1\n",
    "\n",
    "model.W_nmh_uv = Param(model.Paths, model.E, initialize=Paths_links_mapping_dict)"
   ]
  },
  {
   "cell_type": "markdown",
   "metadata": {},
   "source": [
    "### PDU Session Parameters"
   ]
  },
  {
   "cell_type": "code",
   "execution_count": 16,
   "metadata": {},
   "outputs": [],
   "source": [
    "# SFCR processing demand \n",
    "model.del_component( 'C_s')\n",
    "model.C_s = Param(model.S, initialize=Dict_C_s)\n",
    "\n",
    "# SFCR latency demand \n",
    "model.del_component( 'Lreq_s')\n",
    "model.Lreq_s = Param(model.S, initialize=Dict_Lreq_s)\n",
    "\n",
    "#Link_Bandwidth demand\n",
    "model.del_component( 'beta_s')\n",
    "model.beta_s = Param(model.S, initialize=Dict_beta_s)\n",
    "\n",
    "#Number of VNFs per sessions\n",
    "Num_VNF_s = {}\n",
    "for s in model.S:\n",
    "    Num_VNF_s[s] = len(List_F_s[s-1])\n",
    "\n",
    "model.del_component( 'Num_VNF_s')   \n",
    "model.Num_VNF_s = Param(model.S, initialize=Num_VNF_s)  # for the moment it includes the ran\n",
    "\n",
    "#Number of VNFs of each type in a SFCR\n",
    "Dict_Num_VNFTypes_s = {}\n",
    "for s in model.S:\n",
    "    for t in model.T_extended:\n",
    "        count= 0\n",
    "        for element in List_T_s[s-1]:\n",
    "            if t==element: count+=1\n",
    "        Dict_Num_VNFTypes_s[(s,t)] = count\n",
    "\n",
    "model.del_component( 'Num_VNFTypes_s')        \n",
    "model.del_component( 'Num_VNFTypes_s_index')        \n",
    "model.Num_VNFTypes_s = Param(model.S, model.T_extended, initialize=Dict_Num_VNFTypes_s)\n",
    "\n",
    "#K_[s,f] = 1 if VNF f of SFC is s is common for all the branches in sfc s\n",
    "Dict_K_s={}\n",
    "for s,f in model.SF:\n",
    "    Dict_K_s[(s,f)]= List_K_s[s-1][f-1]\n",
    "\n",
    "model.del_component( 'K_sf')    \n",
    "model.del_component( 'K_sf_index')    \n",
    "model.K_sf = Param(model.SF, initialize=Dict_K_s)\n",
    "\n",
    "Dict_K_s_ext={}\n",
    "for s,f in model.SF_extended:\n",
    "    Dict_K_s_ext[(s,f)]= List_K_s[s-1][f-1]\n",
    "\n",
    "model.del_component( 'K_sf_extended')    \n",
    "model.del_component( 'K_sf_extended_index')    \n",
    "model.K_sf_extended = Param(model.SF_extended, initialize=Dict_K_s_ext)\n",
    "\n",
    "# VNF presence in a branch P[s,b,f]= 1 if vnf f is present in branch b of sfc s\n",
    "P_s= {}\n",
    "for s,b,f in model.SBF_extended: \n",
    "    P_s[(s,b,f)] = List_P_s[s-1][b-1][f-1]\n",
    "\n",
    "model.del_component( 'P_sbf')\n",
    "model.del_component( 'P_sbf_index')\n",
    "model.del_component( 'P_sbf_index_index_0')    \n",
    "model.P_sbf = Param(model.SBF_extended, initialize=P_s)\n",
    "\n",
    "#T_stf= 1 if VNF f in SFCs is of type t\n",
    "Dict_T_sft ={} #key=(s,f,t), value= 1 if f is of type t, 0 otherwise\n",
    "for s,f in model.SF_extended:\n",
    "# for s,f in model.SF:\n",
    "    for t in model.T_extended:\n",
    "        if t == List_T_s[s-1][f-1]:\n",
    "            Dict_T_sft[(s,f,t)]= 1\n",
    "        else:\n",
    "            Dict_T_sft[(s,f,t)]= 0\n",
    "            \n",
    "model.del_component( 'T_sft')\n",
    "model.del_component( 'T_sft_index')\n",
    "model.del_component( 'T_sft_index_index_0')    \n",
    "model.T_sft = Param(model.SF_extended, model.T_extended, initialize=Dict_T_sft)\n",
    "\n",
    "#O_sbfg= 1 if vnf f goes before g in branch b of sfc s\n",
    "Dict_O_sbfg = {}\n",
    "for s,b in model.SB:\n",
    "    for f in model.F[s]:        \n",
    "        for g in model.F[s]:\n",
    "            Dict_O_sbfg[(s,b,f,g)]= List_O_s[s-1][b-1][f-1][g-1]\n",
    "            \n",
    "model.del_component( 'SBFG')\n",
    "model.del_component( 'SBFG_index')\n",
    "model.del_component( 'SBFG_index_index_0')    \n",
    "model.del_component( 'SBFG_index_index_0_index_0')\n",
    "model.SBFG = Set(dimen=4, initialize=Dict_O_sbfg.keys())\n",
    "\n",
    "model.del_component( 'O_sbfg')\n",
    "model.del_component( 'O_sbfg_index')\n",
    "model.del_component( 'O_sbfg_index_index_0')    \n",
    "model.del_component( 'O_sbfg_index_index_0_index_0')\n",
    "model.O_sbfg = Param(model.SBFG,  initialize=Dict_O_sbfg)\n",
    "\n",
    "Dict_O_sbfg_extended = {}\n",
    "for s,b in model.SB:\n",
    "    for f in model.F_extended [s]:\n",
    "        for g in model.F_extended[s]:\n",
    "            Dict_O_sbfg_extended[(s,b,f,g)]= List_O_s[s-1][b-1][f-1][g-1]\n",
    "            \n",
    "model.del_component( 'SBFG_extended')\n",
    "model.del_component( 'SBFG_extended_index')\n",
    "model.del_component( 'SBFG_extended_index_index_0')    \n",
    "model.del_component( 'SBFG_extended_index_index_0_index_0')\n",
    "model.SBFG_extended = Set(dimen=4, initialize=Dict_O_sbfg_extended.keys())\n",
    "\n",
    "model.del_component( 'O_sbfg_extended')\n",
    "model.del_component( 'O_sbfg_extended_index')\n",
    "model.del_component( 'O_sbfg_extended_index_index_0')    \n",
    "model.del_component( 'O_sbfg_extended_index_index_0_index_0')\n",
    "model.O_sbfg_extended = Param(model.SBFG_extended,  initialize=Dict_O_sbfg_extended)"
   ]
  },
  {
   "cell_type": "markdown",
   "metadata": {},
   "source": [
    "## Defining the Variables"
   ]
  },
  {
   "cell_type": "code",
   "execution_count": 17,
   "metadata": {},
   "outputs": [],
   "source": [
    "# x[m,t,c]=1 if instance m of VNF type t is deployed at node c\n",
    "model.del_component( 'x')\n",
    "model.del_component( 'x_index')\n",
    "model.del_component( 'x_index_index_0')\n",
    "model.x = Var(model.TM_extended, model.N, within=Binary, initialize=0)\n",
    "\n",
    "# z[s,f,sm,t,c]=1 if VNF f of SFCR s is assigned to instance m of VNF type t is deployed at node c\n",
    "model.del_component( 'z')\n",
    "model.del_component( 'z_index')\n",
    "model.del_component( 'z_index_index_0')\n",
    "model.del_component( 'z_index_index_0_index_0')\n",
    "model.del_component( 'z_index_index_0_index_0_index_0')\n",
    "model.z = Var(model.SF_extended, model.TM_extended, model.N, within=Binary, initialize=0)\n",
    "\n",
    "# a[s,b,f,m,t,c] = 1 if the VNF f requested by the branch b of the SFC s is assigned to m,t,c VNF instance\n",
    "model.del_component( 'a')\n",
    "model.del_component( 'a_index')\n",
    "model.del_component( 'a_index_index_0')\n",
    "model.del_component( 'a_index_index_0_index_0')\n",
    "model.del_component( 'a_index_index_0_index_0_index_0')\n",
    "model.del_component( 'a_index_index_0_index_0_index_0_index_0')\n",
    "model.a = Var(model.SBF_extended, model.TM_extended, model.N, within=Binary, initialize=0)\n",
    "\n",
    "# y[s,b,f,g,n,m,h]= 1 if path h between nodes (i,j) is used to route traffic between VNFs f and g in branch b \n",
    "                    # of SFCR s \n",
    "model.del_component( 'y')\n",
    "model.del_component( 'y_index')\n",
    "model.del_component( 'y_index_index_0')\n",
    "model.del_component( 'y_index_index_0_index_0')\n",
    "model.del_component( 'y_index_index_0_index_0_index_0')\n",
    "model.del_component( 'y_index_index_0_index_0_index_0_index_0')\n",
    "model.del_component( 'y_index_index_0_index_0_index_0_index_0_index_0')\n",
    "model.y = Var(model.SBFG_extended, model.Paths, within=Binary, initialize=0)\n",
    "\n",
    "# delta[s,b,f,g,i,j]=1 if virtual link (i,j) may route traffic between VNFs f and g of SFCR s. It's a variable used for linearizing\n",
    "model.del_component( 'delta')\n",
    "model.del_component( 'delta_index')\n",
    "model.del_component( 'delta_index_index_0')\n",
    "model.del_component( 'delta_index_index_0_index_0')\n",
    "model.del_component( 'delta_index_index_0_index_0_index_0')\n",
    "model.del_component( 'delta_index_index_0_index_0_index_0_index_0')\n",
    "model.delta = Var( model.SBFG_extended,model.Paths_nm,  within=Binary, initialize=0)\n",
    "# model.delta = Var( model.SBFG, model.E, within=Binary, initialize=0)\n",
    "\n",
    "# w[c]= 1 if node c is open\n",
    "model.del_component( 'w') \n",
    "model.w = Var(model.Nc,  within=Binary, initialize=0)"
   ]
  },
  {
   "attachments": {},
   "cell_type": "markdown",
   "metadata": {},
   "source": [
    "## Defining the Objective"
   ]
  },
  {
   "attachments": {},
   "cell_type": "markdown",
   "metadata": {},
   "source": [
    "Objective functions:\n",
    "\n",
    "Active nodes: $\\sum \\limits_{n \\in N_c} w_{n}$\n",
    "\n",
    "VNF number:   $\\sum\\limits_{i \\in I_t}\\sum \\limits_{\\substack{t\\in T,\\\\ t\\neq 0}}  \\sum \\limits_{n \\in N_c} x_{i,t,n}$\n",
    "\n",
    "Routing:      $\\sum\\limits_{f,g\\in F_s^+}\\sum\\limits_{ b \\in B_s}\\sum\\limits_{ s \\in S}\\sum\\limits_{ p \\in P}  d_{p} \\cdot y_{p}^{f,g,b,s}$"
   ]
  },
  {
   "cell_type": "code",
   "execution_count": 18,
   "metadata": {},
   "outputs": [],
   "source": [
    "model.del_component( 'Objective')\n",
    "\n",
    "def Objective_rule(model):\n",
    "    Num_upfs = sum(model.x[t,m,c] for t,m in model.TM for c in model.Nc)\n",
    "    Activation = sum( model.w[c] for c in model.Nc)\n",
    "    latency_oneway = sum(model.D_prop[n,m,h]*model.y[s,b,f,g,n,m,h]  for s,b in model.SB  \n",
    "                         for f in model.F_extended[s] for g in model.F_extended[s] for n,m,h in model.Paths)\n",
    "    \n",
    "    # Normalizing\n",
    "    Var1 = sum(M_t.values()) - M_t[Ran_type]\n",
    "    Var2 = round(sum(Dict_C_c.values())/min(Dict_C_t.values()))\n",
    "#     Max_Num_Instances = min(Var1, Var2)\n",
    "    Num_upfs = Num_upfs/Max_Num_Instances\n",
    "    Max_Num_Instances = Var2\n",
    "    Branches = sum(List_B_s)\n",
    "    latency_oneway = latency_oneway/(100*Branches)\n",
    "    Activation = Activation/ len(Nc)\n",
    "    \n",
    "    w1,w2,w3 = 0.4,0.4,0.2          # weight components\n",
    "    obj= w1*Num_upfs + w2*Activation + w3*latency_oneway\n",
    "    \n",
    "    return obj\n",
    "\n",
    "model.Objective = Objective(rule=Objective_rule, sense=minimize)"
   ]
  },
  {
   "cell_type": "code",
   "execution_count": 19,
   "metadata": {},
   "outputs": [],
   "source": [
    "# model.Objective.display()"
   ]
  },
  {
   "cell_type": "markdown",
   "metadata": {},
   "source": [
    "## Defining the Constraints"
   ]
  },
  {
   "attachments": {},
   "cell_type": "markdown",
   "metadata": {},
   "source": [
    "##### C1: Node Capacity\n",
    "\n",
    "$\\sum \\limits_{t\\in T}\\sum \\limits_{m\\in M_t}C_t*x_{m,t,c}<= C_c  \\hspace{10 pt} \\forall c \\in N_c$"
   ]
  },
  {
   "cell_type": "code",
   "execution_count": 20,
   "metadata": {},
   "outputs": [],
   "source": [
    "model.del_component( 'NodeCapacity')\n",
    "\n",
    "def NodeCapacity_rule(model,c):\n",
    "    return sum(model.C_t[t]*(model.x[t,m,c]) for t,m in model.TM) <= model.C_c[c]\n",
    "\n",
    "model.NodeCapacity = Constraint(model.Nc, rule=NodeCapacity_rule)"
   ]
  },
  {
   "cell_type": "code",
   "execution_count": 21,
   "metadata": {},
   "outputs": [],
   "source": [
    "# model.NodeCapacity.display()"
   ]
  },
  {
   "attachments": {},
   "cell_type": "markdown",
   "metadata": {},
   "source": [
    "##### C2: VNF Capacity\n",
    "\n",
    "$ \\sum \\limits_{s\\in S}\\sum \\limits_{f \\in F_s} C_s[ K_{s}^f \\cdot z_{t,i,n}^{s,f}  \\leq C_t  \\hspace{20 pt} \\forall i \\in I_t, \\forall t \\in T, t \\neq 0, \\forall n \\in N_c $"
   ]
  },
  {
   "cell_type": "code",
   "execution_count": 22,
   "metadata": {},
   "outputs": [],
   "source": [
    "model.del_component( 'VNFCapacity')\n",
    "model.del_component( 'VNFCapacity_index')\n",
    "model.del_component( 'VNFCapacity_index_index_0')\n",
    "\n",
    "def VNFCapacity_rule(model,t,m,c):\n",
    "    return sum(round(model.C_s[s],2)*model.z[s,f,t,m,c] for s,f in model.SF) <= model.C_t[t]\n",
    "\n",
    "\n",
    "model.VNFCapacity = Constraint(model.TM, model.Nc, rule=VNFCapacity_rule)"
   ]
  },
  {
   "cell_type": "code",
   "execution_count": 23,
   "metadata": {
    "scrolled": true
   },
   "outputs": [],
   "source": [
    "# model.VNFCapacity.display()"
   ]
  },
  {
   "attachments": {},
   "cell_type": "markdown",
   "metadata": {},
   "source": [
    "##### C3: Link Capacity\n",
    "\n",
    "$ \\sum\\limits_{s\\in S} \\sum\\limits_{b\\in B_s} \\sum\\limits_{f,g\\in F_s^+}\\sum\\limits_{p\\in P} \\beta_s \\cdot y_{p}^{s,b,f,g} \\cdot W_{u,v}^{p}\\leq \\beta_{u,v} \\hspace{20 pt} \\forall (u,v) \\in E $"
   ]
  },
  {
   "cell_type": "code",
   "execution_count": 24,
   "metadata": {},
   "outputs": [],
   "source": [
    "model.del_component( 'LinkCapacity')\n",
    "model.del_component( 'LinkCapacity_index')\n",
    "\n",
    "def LinkCapacity_rule(model, i,j):\n",
    "   \n",
    "    link_cap = (sum(model.beta_s[s]*model.y[s,b,f,g,n,m,h]* model.W_nmh_uv[n,m,h,i,j] \n",
    "                    for s,b,f,g in model.SBFG_extended for n,m,h in model.Paths))\n",
    "                    \n",
    "    return link_cap <= model.Link_bw[i,j]\n",
    "\n",
    "model.LinkCapacity = Constraint(model.E, rule=LinkCapacity_rule)\n"
   ]
  },
  {
   "cell_type": "code",
   "execution_count": 25,
   "metadata": {
    "scrolled": true
   },
   "outputs": [],
   "source": [
    "# model.LinkCapacity.display()"
   ]
  },
  {
   "attachments": {},
   "cell_type": "markdown",
   "metadata": {},
   "source": [
    "##### C4: Maximum number of intances of a type t\n",
    "In the article, the maximum number of instances is defined as I_t\n",
    "\n",
    "$ \\sum \\limits_{i \\in I_t}\\sum \\limits_{n \\in N_c} x_{i,t,n} \\leq I_t \\hspace{20 pt} \\forall t \\in  T; t \\neq 0$"
   ]
  },
  {
   "cell_type": "code",
   "execution_count": 26,
   "metadata": {},
   "outputs": [],
   "source": [
    "model.del_component( 'MaxNUmVNFType')\n",
    "\n",
    "def MaxNUmVNFType_rule(model,t):\n",
    "    return sum(model.x[t,m,c] for m in model.M_t[t] for c in model.Nc) <= model.MaxM_t[t]\n",
    "\n",
    "model.MaxNUmVNFType = Constraint(model.T, rule=MaxNUmVNFType_rule)"
   ]
  },
  {
   "cell_type": "code",
   "execution_count": 27,
   "metadata": {},
   "outputs": [],
   "source": [
    "# model.MaxNUmVNFType.display()"
   ]
  },
  {
   "attachments": {},
   "cell_type": "markdown",
   "metadata": {},
   "source": [
    "##### C5: Mapping of a VNF Instance \n",
    "\n",
    "Each VNf instance of a type must be mapped to only one server\n",
    "\n",
    "$ \\sum \\limits_{n \\in N_c} x_{i,t,n} \\leq 1  \\hspace{20 pt}   \\forall i  \\in  I_t, \\forall t \\in  T; t \\neq 0$"
   ]
  },
  {
   "cell_type": "code",
   "execution_count": 28,
   "metadata": {},
   "outputs": [],
   "source": [
    "model.del_component( 'MappingVNFInstance')\n",
    "model.del_component( 'MappingVNFInstance_index')\n",
    "\n",
    "def MappingVNFInstance_rule(model,t, m):\n",
    "    return sum(model.x[t,m,c] for c in model.Nc) <= 1\n",
    "\n",
    "model.MappingVNFInstance = Constraint(model.TM, rule=MappingVNFInstance_rule)"
   ]
  },
  {
   "attachments": {},
   "cell_type": "markdown",
   "metadata": {},
   "source": [
    "#### C6: Node support vnf type and must be open\n",
    "\n",
    "An instance of a VNF type can be deployed on a node only if this type of VNF is supported by the node\n",
    "\n",
    "$ x_{i,t,n} \\leq w_n \\cdot V_n^t \\hspace{20 pt}  \\forall i  \\in  I_t, \\forall t  \\in  T, \\forall n  \\in  N$"
   ]
  },
  {
   "cell_type": "code",
   "execution_count": 30,
   "metadata": {},
   "outputs": [],
   "source": [
    "model.del_component( 'NodeSupportTypeDeploy')\n",
    "model.del_component( 'NodeSupportTypeDeploy_index')\n",
    "model.del_component( 'NodeSupportTypeDeploy_index_index_0')\n",
    "\n",
    "def NodeSupportTypeDeploy_rule(model,t,m,c):\n",
    "    if t==Ran_type and c > len(Nc):             # If the type of vnf is a RAN as well as the node\n",
    "        if m==(c-len(Nc)):\n",
    "            return model.x[t,m,c]==1            # To match RAN instance with its number\n",
    "        else:\n",
    "            return model.x[t,m,c]==0\n",
    "    else:    \n",
    "        return model.x[t,m,c] <= model.w[n]*model.NodeSupportType[c,t]    \n",
    "\n",
    "model.NodeSupportTypeDeploy = Constraint(model.TM_extended, model.N, rule=NodeSupportTypeDeploy_rule)"
   ]
  },
  {
   "attachments": {},
   "cell_type": "markdown",
   "metadata": {},
   "source": [
    "#### C: Node open\n",
    "\n",
    "Forces a candidate to be closed if it has not mapped any VNF instance\n",
    "\n",
    "$ \\sum \\limits_{\\forall t \\in T} \\sum \\limits_{\\forall i \\in I_t}  x_{t,i,c} \\geq w_{c}   \\hspace{30pt}   \\forall c \\in N$"
   ]
  },
  {
   "cell_type": "code",
   "execution_count": null,
   "metadata": {},
   "outputs": [],
   "source": [
    "model.del_component( 'Opening')\n",
    "\n",
    "def Opening_rule(model,c):\n",
    "    return sum(model.x[t,i,c] for t,i in model.TM)>=model.w[c]\n",
    "\n",
    "model.Opening = Constraint(model.Nc,  rule=Opening_rule)"
   ]
  },
  {
   "attachments": {},
   "cell_type": "markdown",
   "metadata": {},
   "source": [
    "##### C7: Mapping of VNF service equested by a SFCR\n",
    "\n",
    "Each VNf service requested by a SFCR must be mapped to exactly one VNF instance \n",
    "\n",
    "$ \\sum\\limits_{ i \\in I_t} \\sum\\limits_{ t \\in T}\\sum\\limits_{ n \\in N}z_{i,t,n}^{f,s} = 1 \\hspace{20 pt} \\forall f \\in  F_s^+, \\forall s  \\in  S$"
   ]
  },
  {
   "cell_type": "code",
   "execution_count": 32,
   "metadata": {},
   "outputs": [],
   "source": [
    "model.del_component( 'MappingVNFRequest')\n",
    "model.del_component( 'MappingVNFRequest_Request')\n",
    "\n",
    "def MappingVNFRequest_rule(model,s, f):\n",
    "    return sum(model.z[s,f,t,m,c] for t,m in model.TM for c in model.Nc) == 1\n",
    "\n",
    "model.MappingVNFRequest = Constraint(model.SF, rule=MappingVNFRequest_rule)"
   ]
  },
  {
   "cell_type": "code",
   "execution_count": 33,
   "metadata": {},
   "outputs": [],
   "source": [
    "# model.MappingVNFRequest.display()"
   ]
  },
  {
   "attachments": {},
   "cell_type": "markdown",
   "metadata": {},
   "source": [
    "##### C8: VNF Assignment\n",
    "\n",
    "A VNF service reuested by a SFC can be assigned to an instance of a VNF at a server if this is already deployed and is of the requested type\n",
    "\n",
    "$z_{i,t,n}^{f,s} \\leq x_{i,t,n}  \\cdot  T_{s}^{f,t}\n",
    "    \\hspace{20 pt} \\forall  f  \\in  F_s^+, \\forall s  \\in  S,  \\forall i  \\in  I_t, \\forall t  \\in  T,  \\forall n  \\in  N$"
   ]
  },
  {
   "cell_type": "code",
   "execution_count": 34,
   "metadata": {},
   "outputs": [],
   "source": [
    "model.del_component( 'VNFAssignment')\n",
    "model.del_component( 'VNFAssignment_index')\n",
    "model.del_component( 'VNFAssignment_index_index_0')\n",
    "model.del_component( 'VNFAssignment_index_index_0_index_0')\n",
    "model.del_component( 'VNFAssignment_index_index_0_index_0_index_0')\n",
    "\n",
    "#original version    \n",
    "def VNFAssignment_rule(model,s,f,t,m,c):\n",
    "    if t==Ran_type:\n",
    "        if (s,f,t,m,c) in List_R_s:                 # assign s to its source ran\n",
    "            return model.z[s,f,t,m,c]==1\n",
    "        else:\n",
    "            return model.z[s,f,t,m,c]==0\n",
    "    else:\n",
    "        return model.z[s,f,t,m,c] <= model.x[t,m,c]*model.T_sft[s,f,t]\n",
    "\n",
    "model.VNFAssignment = Constraint(model.SF_extended, model.TM_extended, model.N, rule=VNFAssignment_rule)"
   ]
  },
  {
   "cell_type": "code",
   "execution_count": 35,
   "metadata": {},
   "outputs": [],
   "source": [
    "# model.VNFAssignment.display()"
   ]
  },
  {
   "attachments": {},
   "cell_type": "markdown",
   "metadata": {},
   "source": [
    "##### C9: Minimum number of VNF of each Type Assigned to a session\n",
    "Each SFCR must be assigned to at least the minimun number of requested VNFs of eac type\n",
    "\n",
    "$ \\sum\\limits_{ f \\in F_s}  \\sum\\limits_{ i \\in I_t}\\sum\\limits_{ n \\in N_c}z_{i,t,n}^{f,s} \\geq |F_s^t| \n",
    "    \\hspace{20 pt}  \\forall s  \\in  S, \\forall t  \\in  T; t\\neq 0 $"
   ]
  },
  {
   "cell_type": "code",
   "execution_count": 36,
   "metadata": {},
   "outputs": [],
   "source": [
    "model.del_component( 'MinNUmVNFTypeAssignment')\n",
    "model.del_component( 'MinNUmVNFTypeAssignment_index')\n",
    "\n",
    "def MinNUmVNFTypeAssignment_rule(model,s, t):\n",
    "    return sum(model.z[s,f,t,m,c] for f in model.F[s] for m in model.M_t[t] for c in model.Nc) >= model.Num_VNFTypes_s[s,t]\n",
    "\n",
    "model.MinNUmVNFTypeAssignment = Constraint(model.S, model.T,  rule=MinNUmVNFTypeAssignment_rule)"
   ]
  },
  {
   "attachments": {},
   "cell_type": "markdown",
   "metadata": {},
   "source": [
    "#### C10: VNF_Branch \n",
    "\n",
    "Express that a VNF f in m,t,c can serve a branch b of a SFCR s if it is assigned to s. Or ...\n",
    "\n",
    "$z_{m,t,c}^{s,f} \\leq \\sum\\limits_{b \\in B_s} a_{m,t,c}^{s,b,f}  \\hspace{20 pt} \\forall s \\in S, \\forall f \\in F_s, \\forall t \\in T,  \\forall m \\in M_t, \\forall c \\in Nc$"
   ]
  },
  {
   "cell_type": "code",
   "execution_count": 39,
   "metadata": {},
   "outputs": [],
   "source": [
    "model.del_component( 'VNF_Branch')\n",
    "model.del_component( 'VNF_Branch_index')\n",
    "model.del_component( 'VNF_Branch_index_index_0')\n",
    "model.del_component( 'VNF_Branch_index_index_0_index_0')\n",
    "model.del_component( 'VNF_Branch_index_index_0_index_0_index_0')\n",
    "\n",
    "def VNF_Branch_rule(model, s,f,t,m,c):\n",
    "    return model.z[s,f,t,m,c] <= sum(model.a[s,b,f,t,m,c] for b in model.B_s[s])\n",
    "\n",
    "model.VNF_Branch = Constraint(model.SF, model.TM, model.Nc, rule= VNF_Branch_rule)\n",
    "# model.VNF_Branch = Constraint(model.SF_extended, model.TM_extended, model.N, rule= VNF_Branch_rule)"
   ]
  },
  {
   "attachments": {},
   "cell_type": "markdown",
   "metadata": {},
   "source": [
    "#### C11: a and Z variables\n",
    "\n",
    "Express that a VNF can serve a branch only if it is placed at a location\n",
    "\n",
    "$ a_{m,t,c}^{s,b,f} \\leq z_{m,t,c}^{s,f} \\hspace{20 pt} \\forall s \\in S, \\forall f \\in F_s, \\forall t \\in T,  \\forall m \\in M_t, \\forall c \\in Nc$"
   ]
  },
  {
   "cell_type": "code",
   "execution_count": 41,
   "metadata": {},
   "outputs": [],
   "source": [
    "model.del_component( 'A_Z')\n",
    "model.del_component( 'A_Z_index')\n",
    "model.del_component( 'A_Z_index_index_0')\n",
    "model.del_component( 'A_Z_index_index_0_index_0')\n",
    "model.del_component( 'A_Z_index_index_0_index_0_index_0')\n",
    "model.del_component( 'A_Z_index_index_0_index_0_index_0_index_0')\n",
    "\n",
    "def A_Z_rule(model, s,b,f,t,m,c):\n",
    "    return model.z[s,f,t,m,c] >= model.a[s,b,f,t,m,c]\n",
    "\n",
    "# model.A_Z = Constraint(model.SBF, model.TM, model.Nc, rule= A_Z_rule) # no funciona\n",
    "model.A_Z = Constraint(model.SBF_extended, model.TM_extended, model.N, rule= A_Z_rule)"
   ]
  },
  {
   "attachments": {},
   "cell_type": "markdown",
   "metadata": {},
   "source": [
    "#### C12: VNFBranchPresence\n",
    "Express if a VNF f is present in a branch b of a SFCR s \n",
    "\n",
    "$\\sum\\limits_{m \\in M_t} \\sum\\limits_{c \\in N_c} a_{m,t,c}^{s,b,f} \\leq Q_{sbf} \\hspace{20 pt} \\forall b \\in B_s,\\forall s \\in S, \\forall f \\in F_s, \\forall t \\in T$"
   ]
  },
  {
   "cell_type": "code",
   "execution_count": 43,
   "metadata": {},
   "outputs": [],
   "source": [
    "model.del_component( 'VNFBranchPresence')\n",
    "model.del_component( 'VNFBranchPresence_index')\n",
    "model.del_component( 'VNFBranchPresence_index_index_0')\n",
    "\n",
    "#original version\n",
    "def VNFBranchPresence_rule(model, s,b,f,t):\n",
    "    return sum(model.a[s,b,f,t,m,c] for m in model.M_t[t] for c in model.N) <= model.P_sbf[s,b,f]*model.T_sft[s,f,t]\n",
    "\n",
    "model.VNFBranchPresence = Constraint(model.SBF_extended, model.T_extended, rule=VNFBranchPresence_rule)"
   ]
  },
  {
   "attachments": {},
   "cell_type": "markdown",
   "metadata": {},
   "source": [
    "\n",
    "#### C13 : Link_Order\n",
    "\n",
    "$  \\sum \\limits_{ p \\in P}  y_{p}^{f,g,b,s}  \\geq O_{s}^{f,g,b} \\hspace{20 pt} \\forall f, g \\in  F_s^+, \\forall b  \\in  B_s, \\forall s  \\in  S$"
   ]
  },
  {
   "cell_type": "code",
   "execution_count": 45,
   "metadata": {},
   "outputs": [],
   "source": [
    "model.del_component( 'LinkOrder1')\n",
    "model.del_component( 'LinkOrder1_index')\n",
    "model.del_component( 'LinkOrder1_index_index_0')\n",
    "model.del_component( 'LinkOrder1_index_index_0_index_0')\n",
    "\n",
    "def LinkOrder1_rule(model, s,b,f,g):\n",
    "    return model.O_sbfg_extended[s,b,f,g] <= sum(model.y[s,b,f,g,n,m,h] for n,m,h in model.Paths)\n",
    "\n",
    "model.LinkOrder1 = Constraint(model.SBFG_extended, rule= LinkOrder1_rule)"
   ]
  },
  {
   "attachments": {},
   "cell_type": "markdown",
   "metadata": {},
   "source": [
    "#### C15: VNF_link\n",
    "\n",
    "$ \\sum \\limits_{ p \\in P_{n,m}}  y_{p}^{f,g,b,s} \\leq \\sum\\limits_{ i \\in I_t}\\sum\\limits_{ t \\in T}a_{i,t,n}^{f,b,s} \\cdot \\sum\\limits_{ i \\in I_t}\\sum\\limits_{ t \\in T} a_{t,i,m}^{s,b,g} \\hspace{20 pt} \\forall f, g \\in  F_s^+,  \\forall b  \\in  B_s, \\forall s  \\in  S, \\forall n,m  \\in  N $"
   ]
  },
  {
   "cell_type": "code",
   "execution_count": 49,
   "metadata": {},
   "outputs": [],
   "source": [
    "# Linear form of the constraint\n",
    "\n",
    "model.del_component( 'VNF_link1')\n",
    "model.del_component( 'VNF_link1_index')\n",
    "model.del_component( 'VNF_link1_index_index_0')\n",
    "model.del_component( 'VNF_link1_index_index_0_index_0')\n",
    "model.del_component( 'VNF_link1_index_index_0_index_0_index_0')\n",
    "model.del_component( 'VNF_link1_index_index_0_index_0_index_0_index_0')\n",
    "\n",
    "def VNF_link1_rule(model, s,b,f,g,n,m):\n",
    "    return sum(model.a[s,b,f,t,i,n] for t,i in  model.TM_extended)>=model.delta[s,b,f,g,n,m]\n",
    "\n",
    "model.VNF_link1 = Constraint(model.SBFG_extended, model.Paths_nm, rule= VNF_link1_rule)\n",
    "\n",
    "model.del_component( 'VNF_link2')\n",
    "model.del_component( 'VNF_link2_index')\n",
    "model.del_component( 'VNF_link2_index_index_0')\n",
    "model.del_component( 'VNF_link2_index_index_0_index_0')\n",
    "model.del_component( 'VNF_link2_index_index_0_index_0_index_0')\n",
    "model.del_component( 'VNF_link2_index_index_0_index_0_index_0_index_0')\n",
    "\n",
    "def VNF_link2_rule(model, s,b,f,g,n,m):\n",
    "    return sum(model.a[s,b,g,t,i,m] for t,i in model.TM_extended)>=model.delta[s,b,f,g,n,m]\n",
    "    \n",
    "model.VNF_link2 = Constraint(model.SBFG_extended,  model.Paths_nm, rule= VNF_link2_rule)\n",
    "\n",
    "model.del_component( 'VNF_link3')\n",
    "model.del_component( 'VNF_link3_index')\n",
    "model.del_component( 'VNF_link3_index_index_0')\n",
    "model.del_component( 'VNF_link3_index_index_0_index_0')\n",
    "model.del_component( 'VNF_link3_index_index_0_index_0_index_0')\n",
    "model.del_component( 'VNF_link3_index_index_0_index_0_index_0_index_0')\n",
    "\n",
    "def VNF_link3_rule(model, s,b,f,g,n,m):\n",
    "    if f!=g:\n",
    "        return model.delta[s,b,f,g,n,m] >= sum(model.a[s,b,f,t,i,n] + model.a[s,b,g,t,i,m] for t,i\n",
    "                                               in model.TM_extended)-1\n",
    "    else:\n",
    "        return model.delta[s,b,f,g,n,m] <= 0\n",
    "    \n",
    "model.VNF_link3 = Constraint(model.SBFG_extended, model.Paths_nm, rule= VNF_link3_rule)\n",
    "\n",
    "model.del_component( 'VNF_link')\n",
    "model.del_component( 'VNF_link_index')\n",
    "model.del_component( 'VNF_link_index_index_0')\n",
    "model.del_component( 'VNF_link_index_index_0_index_0')\n",
    "model.del_component( 'VNF_link_index_index_0_index_0_index_0')\n",
    "model.del_component( 'VNF_link_index_index_0_index_0_index_0_index_0')\n",
    "\n",
    "def VNF_link_rule(model, s,b,f,g,n,m):\n",
    "    return model.delta[s,b,f,g,n,m] >= sum(model.y[s,b,f,g,n,m,h] for h in model.Paths_nm_h[n,m])\n",
    "\n",
    "model.VNF_link = Constraint(model.SBFG_extended, model.Paths_nm, rule= VNF_link_rule)"
   ]
  },
  {
   "attachments": {},
   "cell_type": "markdown",
   "metadata": {},
   "source": [
    "#### C16: Anti-Affinity\n",
    "The VNFs of a same type requested by a same SFCR must be mapped in different servers. In other words, two VNFs of a same time serving a same SFCR must be placed on different servers\n",
    "\n",
    "$ \\sum \\limits_{f \\in F_s}  \\sum \\limits_{i \\in I_t}  z_{i,t,n}^{f,s} \\leq 1 \\hspace{20 pt} \\forall s  \\in  S, \\forall t  \\in  T; t \\neq 0,\\forall n  \\in  N_c$"
   ]
  },
  {
   "cell_type": "code",
   "execution_count": 50,
   "metadata": {},
   "outputs": [],
   "source": [
    "model.del_component( 'Anti_Affinity')\n",
    "model.del_component( 'Anti_Affinity_index')\n",
    "model.del_component( 'Anti_Affinity_index_index_0')\n",
    "\n",
    "def Anti_Affinity_rule(model, s,c,t):\n",
    "    return sum(model.z[s,f,t,i,c] for f in model.F[s] for i in model.M_t[t])<= 1\n",
    "\n",
    "model.Anti_Affinity = Constraint(model.S, model.Nc, model.T, rule= Anti_Affinity_rule)"
   ]
  },
  {
   "attachments": {},
   "cell_type": "markdown",
   "metadata": {},
   "source": [
    "#### C17: I-UPF and A-UPF\n",
    "\n",
    "The UPFs of type I-UPF  and PSA must not be co-located in the same servers\n",
    "\n",
    "$  \\sum \\limits_{f \\in F_s} \\sum \\limits_{i \\in I_t}  z_{1,i,n}^{s,f} + \\sum \\limits_{f \\in F_s}   \\sum \\limits_{i \\in I_t}  z_{3,i,n}^{s,f} \\leq 1  \\hspace{20 pt}  \\forall s  \\in  S, \\forall n  \\in  N_c $"
   ]
  },
  {
   "cell_type": "code",
   "execution_count": 52,
   "metadata": {},
   "outputs": [],
   "source": [
    "model.del_component( 'IUPF_PSA')\n",
    "model.del_component( 'IUPF_PSA_index')\n",
    "\n",
    "def IUPF_PSA_rule(model, s,c):\n",
    "    return sum(model.z[s,f,1,m,c] for f in model.F[s] for m in model.M_t[1])+sum(model.z[s,f,2,m,c] for f in model.F[s] for m in model.M_t[2]) <= 1\n",
    "\n",
    "model.IUPF_PSA = Constraint(model.S, model.Nc, rule= IUPF_PSA_rule)"
   ]
  },
  {
   "attachments": {},
   "cell_type": "markdown",
   "metadata": {},
   "source": [
    "#### C18: Latency Requirement\n",
    "\n",
    "The round trip data plane delay of a PDU session cannot overpass its service latency requirement (L_s)\n",
    "\n",
    "$ 2 \\cdot  \\left(  \\sum \\limits_{f \\in F_s^+}\\sum \\limits_{i \\in I_t} \\sum \\limits_{t \\in T}\\sum \\limits_{n \\in N}  d_t  \\cdot  a_{i,t,n}^{f,b,s} +\\sum \\limits_{f,g  \\in  F_s^+} \\sum\\limits_{ p \\in P}  d_{p}  \\cdot  y_{p}^{f,g,b,s}\\right) + \n",
    "d_{DN}  \\leq L_s  \\hspace{20 pt}  \\forall b  \\in  B_s, \\forall s  \\in  S $\n"
   ]
  },
  {
   "cell_type": "code",
   "execution_count": 54,
   "metadata": {},
   "outputs": [],
   "source": [
    "model.del_component( 'Latency')\n",
    "model.del_component( 'Latency_index')\n",
    "\n",
    "def Latency_rule(model,s,b):\n",
    "    latency= 2*sum(model.a[s,b,f,t,i,c]*model.D_proc[t] for t,i in model.TM for c in model.Nc \n",
    "                for f in model.F[s])+ 2*sum(model.D_prop[n,m,h]*model.y[s,b,f,g,n,m,h] for n,m,h in model.Paths \n",
    "                                          for f in model.F[s] for g in model.F[s])+2*sum(model.D_prop[n,m,h]*model.y[s,b,model.Num_VNF_s[s],1,n,m,h]\n",
    "                                                                                         for n,m,h in model.Paths)+T_dn+model.D_proc[Ran_type] \n",
    "    return latency <= model.Lreq_s[s]\n",
    "\n",
    "model.Latency = Constraint(model.SB, rule=Latency_rule)"
   ]
  },
  {
   "attachments": {},
   "cell_type": "markdown",
   "metadata": {},
   "source": [
    "## SOLVING THE MODEL AND GETTING THE RESULTS"
   ]
  },
  {
   "cell_type": "code",
   "execution_count": 58,
   "metadata": {},
   "outputs": [
    {
     "name": "stdout",
     "output_type": "stream",
     "text": [
      "   OK\n",
      "\n"
     ]
    }
   ],
   "source": [
    "# solve the model\n",
    "start_t_process = time.process_time()  #Process time for profiling: sum of the kernel and user-space CPU time.\n",
    "\n",
    "# solver = SolverFactory('glpk')\n",
    "# solver = SolverFactory('cplex')\n",
    "solver = SolverFactory('gurobi')\n",
    "# solver.options['mipgap'] = 0.01       # uncomment to set an optimility gap\n",
    "results= solver.solve(model)\n",
    "\n",
    "T_exec= time.process_time() - start_t_process       # SOLUTION TIME\n",
    "\n",
    "if (results.solver.status == SolverStatus.ok) and (results.solver.termination_condition == TerminationCondition.optimal):\n",
    "    print('   OK\\n')\n",
    "elif (results.solver.termination_condition == TerminationCondition.infeasible):\n",
    "    print('   INFEASIBLE\\n')\n",
    "else:\n",
    "    # Something else is wrong\n",
    "    print (\"   Solver Status: \",  result.solver.status,'\\n')\n"
   ]
  },
  {
   "cell_type": "code",
   "execution_count": 60,
   "metadata": {},
   "outputs": [],
   "source": [
    "cost = model.Objective.expr()"
   ]
  },
  {
   "cell_type": "markdown",
   "metadata": {},
   "source": [
    "### Getting the results"
   ]
  },
  {
   "cell_type": "code",
   "execution_count": 61,
   "metadata": {},
   "outputs": [],
   "source": [
    "# Number of VNFs\n",
    "Total_upf = 0\n",
    "Num_upf_type = {}\n",
    "\n",
    "for t in model.T:\n",
    "    t_upf = 0\n",
    "    for m in model.M_t[t]:\n",
    "        for c in model.Nc:\n",
    "            if model.x[t,m,c].value > 0.9:\n",
    "                Total_upf += 1\n",
    "                t_upf += 1\n",
    "    Num_upf_type[t] = t_upf"
   ]
  },
  {
   "cell_type": "code",
   "execution_count": 62,
   "metadata": {},
   "outputs": [],
   "source": [
    "# Number of open servers\n",
    "Num_open_c = 0\n",
    "Open_servers_list = []\n",
    "\n",
    "for c in model.Nc:\n",
    "    if model.w[c].value > 0.9:\n",
    "        Open_servers_list.append(c)\n",
    "        Num_open_c += 1"
   ]
  },
  {
   "cell_type": "code",
   "execution_count": 63,
   "metadata": {},
   "outputs": [],
   "source": [
    "Latency_List = []\n",
    "\n",
    "for s,b in model.SB:\n",
    "    latency= 2*sum(model.a[s,b,f,t,i,c].value*model.D_proc[t] for t,i in model.TM for c in model.Nc \n",
    "                for f in model.F[s])+ 2*sum(model.D_prop[n,m,h]*model.y[s,b,f,g,n,m,h].value\n",
    "                                            for n,m,h in model.Paths for f in model.F[s] \n",
    "                                            for g in model.F[s])+2*sum(\n",
    "        model.D_prop[n,m,h]*model.y[s,b,model.Num_VNF_s[s],1,n,m,h].value for n,m,h in model.Paths)+T_dn+model.D_proc[Ran_type] \n",
    "    Latency_List.append(latency)\n"
   ]
  },
  {
   "cell_type": "code",
   "execution_count": 64,
   "metadata": {},
   "outputs": [
    {
     "name": "stdout",
     "output_type": "stream",
     "text": [
      "   Execution time 381.09375\n",
      "   Cost 0.1282048796282985\n",
      "   Number of UPF installed:  4\n",
      "   Number of UPFs per type {1: 2, 2: 1, 3: 1}\n",
      "   Open servers list [8, 9]\n",
      "   Number of Open Servers 2\n",
      "   Maximum latency 910.12\n"
     ]
    }
   ],
   "source": [
    "print('   Execution time', T_exec)\n",
    "print('   Cost', cost)\n",
    "print('   Number of UPF installed: ', Total_upf )\n",
    "print('   Number of UPFs per type', Num_upf_type )\n",
    "print('   Open servers list', Open_servers_list )\n",
    "print('   Number of Open Servers', Num_open_c )\n",
    "print('   Maximum latency', max(Latency_List) )"
   ]
  }
 ],
 "metadata": {
  "kernelspec": {
   "display_name": "Python 3",
   "language": "python",
   "name": "python3"
  },
  "language_info": {
   "codemirror_mode": {
    "name": "ipython",
    "version": 3
   },
   "file_extension": ".py",
   "mimetype": "text/x-python",
   "name": "python",
   "nbconvert_exporter": "python",
   "pygments_lexer": "ipython3",
   "version": "3.7.9"
  }
 },
 "nbformat": 4,
 "nbformat_minor": 2
}
